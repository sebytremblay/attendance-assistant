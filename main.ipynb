{
 "cells": [
  {
   "cell_type": "code",
   "execution_count": null,
   "metadata": {},
   "outputs": [],
   "source": [
    "from dotenv import load_dotenv\n",
    "import os\n",
    "\n",
    "# Load environment variables from .env file\n",
    "load_dotenv()\n",
    "\n",
    "# Access the variables\n",
    "API_KEY = os.environ.get('API_KEY')\n",
    "API_ENDPOINT = os.environ.get('API_ENDPOINT')"
   ]
  },
  {
   "cell_type": "code",
   "execution_count": null,
   "metadata": {},
   "outputs": [],
   "source": [
    "from FaceRecognizer import FaceRecognizer\n",
    "\n",
    "# Create the recognition model\n",
    "person_group = \"\"\n",
    "face_recognizer = FaceRecognizer(API_KEY, API_ENDPOINT, person_group)"
   ]
  },
  {
   "cell_type": "code",
   "execution_count": null,
   "metadata": {},
   "outputs": [],
   "source": [
    "# Train the recognition model\n",
    "training_data_path = \"../training_data/seby\"\n",
    "face_recognizer.add_training_data(training_data_path)\n",
    "face_recognizer.train_person_group()"
   ]
  },
  {
   "cell_type": "code",
   "execution_count": null,
   "metadata": {},
   "outputs": [],
   "source": [
    "from FaceDetector import FaceDetector\n",
    "\n",
    "# Store video information\n",
    "video_path = \"../examples/test2.MOV\"\n",
    "output_path = \"../output\"\n",
    "frame_interval = 15\n",
    "\n",
    "# Perform VideoAnalytics\n",
    "face_detector = FaceDetector()\n",
    "faces = face_detector.detect_faces(video_path)"
   ]
  },
  {
   "cell_type": "code",
   "execution_count": null,
   "metadata": {},
   "outputs": [],
   "source": [
    "import importlib\n",
    "import VideoAnalytics\n",
    "importlib.reload(VideoAnalytics)\n",
    "\n",
    "analyzer = VideoAnalytics(face_recognizer, face_detector)\n",
    "analyzer.annotate_video(video_path, output_path, 30*5, faces)"
   ]
  }
 ],
 "metadata": {
  "kernelspec": {
   "display_name": "myenv",
   "language": "python",
   "name": "python3"
  },
  "language_info": {
   "codemirror_mode": {
    "name": "ipython",
    "version": 3
   },
   "file_extension": ".py",
   "mimetype": "text/x-python",
   "name": "python",
   "nbconvert_exporter": "python",
   "pygments_lexer": "ipython3",
   "version": "3.11.0"
  }
 },
 "nbformat": 4,
 "nbformat_minor": 2
}
